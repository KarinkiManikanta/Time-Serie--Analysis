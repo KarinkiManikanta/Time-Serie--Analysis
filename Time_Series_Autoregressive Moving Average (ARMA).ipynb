{
 "cells": [
  {
   "cell_type": "code",
   "execution_count": 1,
   "metadata": {},
   "outputs": [],
   "source": [
    "import numpy as np\n",
    "import statsmodels.api as sm\n",
    "import pandas as pd\n",
    "from statsmodels.tsa.arima_process import arma_generate_sample\n",
    "np.random.seed(12345)"
   ]
  },
  {
   "cell_type": "code",
   "execution_count": 2,
   "metadata": {},
   "outputs": [
    {
     "name": "stdout",
     "output_type": "stream",
     "text": [
      "[ 0.75 -0.25]\n",
      "[0.65 0.35]\n"
     ]
    }
   ],
   "source": [
    "arparams = np.array([.75, -.25])\n",
    "print(arparams)\n",
    "maparams = np.array([.65, .35])\n",
    "print(maparams)"
   ]
  },
  {
   "cell_type": "markdown",
   "metadata": {},
   "source": [
    "### The conventions of the arma_generate function require that we specify a 1 for the zero-lag of the AR and MA parameters and that the AR parameters be negated.\n"
   ]
  },
  {
   "cell_type": "code",
   "execution_count": 3,
   "metadata": {},
   "outputs": [],
   "source": [
    "arparams = np.r_[1, -arparams]\n",
    "maparams = np.r_[1, maparams]\n",
    "nobs = 250"
   ]
  },
  {
   "cell_type": "code",
   "execution_count": 4,
   "metadata": {},
   "outputs": [
    {
     "data": {
      "text/plain": [
       "array([-0.20470766,  0.19235261, -0.08433185, -0.83707234,  0.81603103,\n",
       "        3.29794896,  3.95609883,  2.9724152 ,  2.22496201,  2.77052827,\n",
       "        3.60818553,  1.80821121,  0.23907621, -0.31876559,  1.29911403,\n",
       "        2.89997171,  0.89826293, -1.41395225, -0.55827532,  0.4509334 ,\n",
       "        0.23711597,  0.03775729,  3.33911364,  3.75242669,  1.87578678,\n",
       "       -0.13968169, -0.39239613,  0.50453666,  0.92380839,  2.09446333,\n",
       "        1.50015688, -0.22312188, -3.70260248, -6.41348649, -6.78429724,\n",
       "       -4.1354646 , -2.60862928, -1.42958525, -1.84873351, -1.3456147 ,\n",
       "       -3.06230205, -3.57697909, -4.41465384, -4.45961865, -4.71875755,\n",
       "       -3.32714099, -1.20901549, -0.48295083, -0.0864054 ,  1.35715125,\n",
       "        2.1026239 ,  2.00218384,  1.14891532,  1.44457802,  2.77237527,\n",
       "        2.01323595, -0.86527519, -2.45874151, -1.39714146, -0.59299439,\n",
       "        0.60320594,  0.92011469,  0.88467618,  1.13268897,  1.93445613,\n",
       "        1.00080373, -0.07928155, -2.96372073, -4.36141368, -4.97901866,\n",
       "       -4.99678066, -2.72081014,  0.16432041,  2.33992962,  3.41718628,\n",
       "        2.3673238 ,  0.32245546, -1.8517168 , -3.01217053, -2.36775094,\n",
       "       -1.08074709, -1.26497314, -0.59639317,  0.42821571,  2.04869069,\n",
       "        4.06308168,  3.07754716,  2.13330051,  0.90276382,  1.26834333,\n",
       "        1.46079426,  3.3896532 ,  3.5381368 ,  4.49449483,  3.77812549,\n",
       "        3.22576424,  2.12017967,  0.39027209, -0.09757821,  0.10016918,\n",
       "       -1.16215667, -2.42344043, -2.47333647, -2.3962692 , -2.27672691,\n",
       "       -1.78356612,  0.13442527,  2.22695015,  2.06810864,  2.53620201,\n",
       "        1.67817389,  1.29149918,  1.5910437 ,  0.06556772, -2.06560894,\n",
       "       -3.18228681, -2.26953395, -1.09765283,  0.36476188, -0.73373767,\n",
       "       -3.73192568, -5.82380496, -4.62818517, -1.49162413,  0.34389309,\n",
       "        0.55895224,  0.25435648, -0.53423839, -1.23790663, -1.29526007,\n",
       "       -2.0431408 , -3.81102739, -2.31174593,  0.64024026,  2.73106989,\n",
       "        3.08721076,  3.46048974,  2.42668291,  0.82453155,  0.16044799,\n",
       "       -0.69104606,  0.40115214,  1.55156134,  1.20232045,  0.4538827 ,\n",
       "       -0.45905984, -0.91923711, -0.90589858,  0.12426162,  1.3913922 ,\n",
       "        0.90649754,  0.78037554,  0.25612821, -1.62723543, -2.05453178,\n",
       "       -3.00751545, -2.97647694, -1.22074214,  1.59973951,  2.41633077,\n",
       "        1.26206067, -0.13152977, -2.48051691, -0.99877079, -0.2069319 ,\n",
       "        1.75367953,  1.92060511,  2.66161707,  4.19595225,  4.90608818,\n",
       "        6.01269363,  4.31087806,  2.79437451,  0.3843302 , -1.93429279,\n",
       "       -3.11049192, -3.49929536, -3.44790316, -2.14292017, -1.31375744,\n",
       "       -1.22731162, -1.52876323, -2.20712763, -0.25073306,  2.39006763,\n",
       "        4.52592315,  3.0714969 ,  0.3485955 , -1.65572171, -2.09772979,\n",
       "       -2.22029258, -2.44788733, -1.1725993 ,  0.28964273,  1.69862808,\n",
       "        2.67473196,  1.40504607, -1.37305725, -1.36048295, -0.07672321,\n",
       "        2.02785106,  1.79286469,  1.17223007, -0.14427089, -1.83691856,\n",
       "       -3.12833823, -5.47671843, -5.48606323, -4.52227291, -2.69509181,\n",
       "        0.21718071,  2.3470019 ,  2.11841459,  2.13441298,  1.56864813,\n",
       "        2.41869823,  1.45703361,  1.04144332,  1.77613137,  1.84871785,\n",
       "        0.7729986 ,  0.20681702, -0.8512934 , -2.97579305, -2.91608261,\n",
       "       -0.65228959,  2.23099496,  3.00508703,  1.7926656 ,  0.61544181,\n",
       "       -0.86226414, -3.04739609, -4.56739244, -2.52058164, -0.7592932 ,\n",
       "       -2.23134275, -4.32087735, -3.98306737, -2.12364722, -0.44801281,\n",
       "       -1.12987226, -1.6317331 , -0.49915791, -0.00815187,  1.0704422 ,\n",
       "        0.17321101, -0.04832544, -0.41580445,  0.33872521,  0.36083776])"
      ]
     },
     "execution_count": 4,
     "metadata": {},
     "output_type": "execute_result"
    }
   ],
   "source": [
    "y = arma_generate_sample(arparams, maparams, nobs)\n",
    "y"
   ]
  },
  {
   "cell_type": "code",
   "execution_count": 5,
   "metadata": {},
   "outputs": [
    {
     "data": {
      "text/plain": [
       "1980-01-31   -0.204708\n",
       "1980-02-29    0.192353\n",
       "1980-03-31   -0.084332\n",
       "1980-04-30   -0.837072\n",
       "1980-05-31    0.816031\n",
       "dtype: float64"
      ]
     },
     "execution_count": 5,
     "metadata": {},
     "output_type": "execute_result"
    }
   ],
   "source": [
    "dates = sm.tsa.datetools.dates_from_range('1980m1', length=nobs)\n",
    "y = pd.Series(y, index=dates)\n",
    "y.head()"
   ]
  },
  {
   "cell_type": "code",
   "execution_count": 6,
   "metadata": {},
   "outputs": [
    {
     "data": {
      "text/plain": [
       "2000-06-30    0.173211\n",
       "2000-07-31   -0.048325\n",
       "2000-08-31   -0.415804\n",
       "2000-09-30    0.338725\n",
       "2000-10-31    0.360838\n",
       "dtype: float64"
      ]
     },
     "execution_count": 6,
     "metadata": {},
     "output_type": "execute_result"
    }
   ],
   "source": [
    "y.tail()"
   ]
  },
  {
   "cell_type": "code",
   "execution_count": 7,
   "metadata": {},
   "outputs": [
    {
     "name": "stderr",
     "output_type": "stream",
     "text": [
      "/home/hemanth/.local/lib/python3.8/site-packages/statsmodels/tsa/arima_model.py:472: FutureWarning: \n",
      "statsmodels.tsa.arima_model.ARMA and statsmodels.tsa.arima_model.ARIMA have\n",
      "been deprecated in favor of statsmodels.tsa.arima.model.ARIMA (note the .\n",
      "between arima and model) and\n",
      "statsmodels.tsa.SARIMAX. These will be removed after the 0.12 release.\n",
      "\n",
      "statsmodels.tsa.arima.model.ARIMA makes use of the statespace framework and\n",
      "is both well tested and maintained.\n",
      "\n",
      "To silence this warning and continue using ARMA and ARIMA until they are\n",
      "removed, use:\n",
      "\n",
      "import warnings\n",
      "warnings.filterwarnings('ignore', 'statsmodels.tsa.arima_model.ARMA',\n",
      "                        FutureWarning)\n",
      "warnings.filterwarnings('ignore', 'statsmodels.tsa.arima_model.ARIMA',\n",
      "                        FutureWarning)\n",
      "\n",
      "  warnings.warn(ARIMA_DEPRECATION_WARN, FutureWarning)\n",
      "/home/hemanth/.local/lib/python3.8/site-packages/statsmodels/tsa/base/tsa_model.py:524: ValueWarning: No frequency information was provided, so inferred frequency M will be used.\n",
      "  warnings.warn('No frequency information was'\n"
     ]
    },
    {
     "data": {
      "text/plain": [
       "<statsmodels.tsa.arima_model.ARMA at 0x7effc6c329d0>"
      ]
     },
     "execution_count": 7,
     "metadata": {},
     "output_type": "execute_result"
    }
   ],
   "source": [
    "arma_mod = sm.tsa.ARMA(y, order=(2,2))\n",
    "arma_mod"
   ]
  },
  {
   "cell_type": "code",
   "execution_count": 8,
   "metadata": {},
   "outputs": [
    {
     "data": {
      "text/plain": [
       "<statsmodels.tsa.arima_model.ARMAResultsWrapper at 0x7effc6c32b50>"
      ]
     },
     "execution_count": 8,
     "metadata": {},
     "output_type": "execute_result"
    }
   ],
   "source": [
    "arma_res = arma_mod.fit(trend='nc', disp=-1)\n",
    "arma_res\n"
   ]
  },
  {
   "cell_type": "code",
   "execution_count": 9,
   "metadata": {},
   "outputs": [
    {
     "data": {
      "text/html": [
       "<div>\n",
       "<style scoped>\n",
       "    .dataframe tbody tr th:only-of-type {\n",
       "        vertical-align: middle;\n",
       "    }\n",
       "\n",
       "    .dataframe tbody tr th {\n",
       "        vertical-align: top;\n",
       "    }\n",
       "\n",
       "    .dataframe thead th {\n",
       "        text-align: right;\n",
       "    }\n",
       "</style>\n",
       "<table border=\"1\" class=\"dataframe\">\n",
       "  <thead>\n",
       "    <tr style=\"text-align: right;\">\n",
       "      <th></th>\n",
       "      <th>0</th>\n",
       "      <th>1</th>\n",
       "    </tr>\n",
       "  </thead>\n",
       "  <tbody>\n",
       "    <tr>\n",
       "      <th>ar.L1.y</th>\n",
       "      <td>0.526869</td>\n",
       "      <td>1.054015</td>\n",
       "    </tr>\n",
       "    <tr>\n",
       "      <th>ar.L2.y</th>\n",
       "      <td>-0.453324</td>\n",
       "      <td>-0.009488</td>\n",
       "    </tr>\n",
       "    <tr>\n",
       "      <th>ma.L1.y</th>\n",
       "      <td>0.452169</td>\n",
       "      <td>0.949289</td>\n",
       "    </tr>\n",
       "    <tr>\n",
       "      <th>ma.L2.y</th>\n",
       "      <td>0.220614</td>\n",
       "      <td>0.591546</td>\n",
       "    </tr>\n",
       "  </tbody>\n",
       "</table>\n",
       "</div>"
      ],
      "text/plain": [
       "                0         1\n",
       "ar.L1.y  0.526869  1.054015\n",
       "ar.L2.y -0.453324 -0.009488\n",
       "ma.L1.y  0.452169  0.949289\n",
       "ma.L2.y  0.220614  0.591546"
      ]
     },
     "execution_count": 9,
     "metadata": {},
     "output_type": "execute_result"
    }
   ],
   "source": [
    "arma_res.conf_int()"
   ]
  },
  {
   "cell_type": "code",
   "execution_count": 10,
   "metadata": {},
   "outputs": [
    {
     "name": "stdout",
     "output_type": "stream",
     "text": [
      "                              ARMA Model Results                              \n",
      "==============================================================================\n",
      "Dep. Variable:                      y   No. Observations:                  250\n",
      "Model:                     ARMA(2, 2)   Log Likelihood                -353.445\n",
      "Method:                       css-mle   S.D. of innovations              0.990\n",
      "Date:                Mon, 14 Dec 2020   AIC                            716.891\n",
      "Time:                        15:50:25   BIC                            734.498\n",
      "Sample:                    01-31-1980   HQIC                           723.977\n",
      "                         - 10-31-2000                                         \n",
      "==============================================================================\n",
      "                 coef    std err          z      P>|z|      [0.025      0.975]\n",
      "------------------------------------------------------------------------------\n",
      "ar.L1.y        0.7904      0.134      5.878      0.000       0.527       1.054\n",
      "ar.L2.y       -0.2314      0.113     -2.044      0.041      -0.453      -0.009\n",
      "ma.L1.y        0.7007      0.127      5.525      0.000       0.452       0.949\n",
      "ma.L2.y        0.4061      0.095      4.291      0.000       0.221       0.592\n",
      "                                    Roots                                    \n",
      "=============================================================================\n",
      "                  Real          Imaginary           Modulus         Frequency\n",
      "-----------------------------------------------------------------------------\n",
      "AR.1            1.7079           -1.1851j            2.0788           -0.0965\n",
      "AR.2            1.7079           +1.1851j            2.0788            0.0965\n",
      "MA.1           -0.8628           -1.3108j            1.5693           -0.3427\n",
      "MA.2           -0.8628           +1.3108j            1.5693            0.3427\n",
      "-----------------------------------------------------------------------------\n"
     ]
    }
   ],
   "source": [
    "print(arma_res.summary())"
   ]
  },
  {
   "cell_type": "code",
   "execution_count": 11,
   "metadata": {},
   "outputs": [
    {
     "data": {
      "image/png": "[encoded data removed]",
      "text/plain": [
       "<Figure size 720x576 with 1 Axes>"
      ]
     },
     "metadata": {
      "needs_background": "light"
     },
     "output_type": "display_data"
    }
   ],
   "source": [
    "import matplotlib.pyplot as plt\n",
    "fig, ax = plt.subplots(figsize=(10,8))\n",
    "fig = arma_res.plot_predict(start='1999-06-30', end='2001-05-31', ax=ax)\n",
    "\n",
    "legend = ax.legend(loc='upper left')"
   ]
  },
  {
   "cell_type": "code",
   "execution_count": null,
   "metadata": {},
   "outputs": [],
   "source": []
  }
 ],
 "metadata": {
  "kernelspec": {
   "display_name": "Python 3.8.6 64-bit",
   "language": "python",
   "name": "python38664bitdc5bcfc3f08f4be2983655d129be0c8b"
  },
  "language_info": {
   "codemirror_mode": {
    "name": "ipython",
    "version": 3
   },
   "file_extension": ".py",
   "mimetype": "text/x-python",
   "name": "python",
   "nbconvert_exporter": "python",
   "pygments_lexer": "ipython3",
   "version": "3.8.6"
  }
 },
 "nbformat": 4,
 "nbformat_minor": 4
}
